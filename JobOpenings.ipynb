{
 "cells": [
  {
   "cell_type": "code",
   "execution_count": 7,
   "metadata": {
    "collapsed": false
   },
   "outputs": [],
   "source": [
    "#Import libraries\n",
    "from urllib.request import urlopen\n",
    "import time\n",
    "from bs4 import BeautifulSoup\n",
    "import pandas as pd\n",
    "import datetime"
   ]
  },
  {
   "cell_type": "code",
   "execution_count": 45,
   "metadata": {
    "collapsed": true
   },
   "outputs": [],
   "source": [
    "#Import list of job openings\n",
    "#Depending on the page being scraped, comment out the page number\n",
    "jobpage = \"https://euraxess.ec.europa.eu/jobs/search?keywords=pharmaceutical\" + \"&page=1\"\n",
    "page = urlopen(jobpage)\n",
    "soup = BeautifulSoup(page, \"lxml\")"
   ]
  },
  {
   "cell_type": "code",
   "execution_count": 43,
   "metadata": {
    "collapsed": false
   },
   "outputs": [],
   "source": [
    "#Parse the webpage into various fields\n",
    "def addtable(isoup, df, link):\n",
    "    jobtitle = [x.text.strip() for x in isoup.find_all(\"h1\", class_=\"head-title\")]\n",
    "    body = [x.text.strip() for x in isoup.find_all(\"div\", class_=\"longtext field-body\")]\n",
    "    organization = [x.text for x in isoup.find_all(\"div\", class_=\"col-xs-12 col-sm-7 value field-company-institute inline\")]\n",
    "    field = [[y.strip() for y in x.text.strip().split(\" \\n\\n\")] for x in isoup.find_all(\"div\", class_=\"col-xs-12 col-sm-7 value field-research-field inline\")]\n",
    "    profile = [[y.strip() for y in x.text.strip().split(\" \\n\\n\")] for x in isoup.find_all(\"div\", class_=\"col-xs-12 col-sm-7 value field-research-profile inline\")]\n",
    "    location = [x.text.strip().split(\" \\n\\n\") for x in isoup.find_all(\"div\", class_=\"col-xs-12 col-sm-7 value field-country inline\")]\n",
    "    city = [x.text.strip() for x in isoup.find_all(\"div\", class_=\"value field-city\")]\n",
    "    addinfo = [x.text.strip() for x in isoup.find_all(\"div\", class_=\"col-xs-12 field-additional-information\")]\n",
    "    reqt = [x.text.strip() for x in isoup.find_all(\"div\", {\"id\":\"bootstrap-fieldgroup-accordion-item--requirements-1\"})]\n",
    "    timex = '{:%Y-%m-%d %H:%M:%S}'.format(datetime.datetime.now())\n",
    "    newrow = {\"Jobtitle\":jobtitle, \n",
    "              \"Organization\":organization, \n",
    "              \"Field\":field,\n",
    "              \"Profile\":profile, \n",
    "              \"Location\":location, \n",
    "              \"City\":city, \n",
    "              \"Requirements\":reqt, \n",
    "              \"Description\":body, \n",
    "              \"Misc\":addinfo,\n",
    "             \"Link\": link,\n",
    "             \"Time\": timex}\n",
    "    return newrow"
   ]
  },
  {
   "cell_type": "code",
   "execution_count": 48,
   "metadata": {
    "collapsed": true
   },
   "outputs": [
    {
     "name": "stdout",
     "output_type": "stream",
     "text": [
      "/jobs/178426\n",
      "/jobs/178432\n"
     ]
    },
    {
     "ename": "KeyboardInterrupt",
     "evalue": "",
     "output_type": "error",
     "traceback": [
      "\u001b[0;31m---------------------------------------------------------------------------\u001b[0m",
      "\u001b[0;31mKeyboardInterrupt\u001b[0m                         Traceback (most recent call last)",
      "\u001b[0;32m<ipython-input-48-06d756d083aa>\u001b[0m in \u001b[0;36m<module>\u001b[0;34m()\u001b[0m\n\u001b[1;32m     10\u001b[0m         \u001b[0mjobscsv\u001b[0m\u001b[1;33m.\u001b[0m\u001b[0mto_csv\u001b[0m\u001b[1;33m(\u001b[0m\u001b[1;34m\"jobs.csv\"\u001b[0m\u001b[1;33m)\u001b[0m\u001b[1;33m\u001b[0m\u001b[0m\n\u001b[1;32m     11\u001b[0m         \u001b[1;32mfor\u001b[0m \u001b[0mi\u001b[0m \u001b[1;32min\u001b[0m \u001b[0mrange\u001b[0m\u001b[1;33m(\u001b[0m\u001b[1;36m60\u001b[0m\u001b[1;33m*\u001b[0m\u001b[1;36m20\u001b[0m\u001b[1;33m)\u001b[0m\u001b[1;33m:\u001b[0m\u001b[1;33m\u001b[0m\u001b[0m\n\u001b[0;32m---> 12\u001b[0;31m             \u001b[0mtime\u001b[0m\u001b[1;33m.\u001b[0m\u001b[0msleep\u001b[0m\u001b[1;33m(\u001b[0m\u001b[1;36m1\u001b[0m\u001b[1;33m)\u001b[0m\u001b[1;33m\u001b[0m\u001b[0m\n\u001b[0m",
      "\u001b[0;31mKeyboardInterrupt\u001b[0m: "
     ]
    }
   ],
   "source": [
    "#Parse each job opening result into a pandas dataframe\n",
    "for x in soup.find_all(\"div\", class_=\"col-sm-12 col-md-6\"):\n",
    "    jobscsv = pd.read_pickle(\"jobs.pkl\")\n",
    "    print(x.a[\"href\"])\n",
    "    if x.a[\"href\"] not in jobscsv[\"Link\"].unique():\n",
    "        indpage=urlopen(\"https://euraxess.ec.europa.eu\" + str(x.a[\"href\"]))\n",
    "        isoupx = BeautifulSoup(indpage, \"lxml\")\n",
    "        newrow = addtable(isoupx, jobscsv, str(x.a[\"href\"]))\n",
    "        jobscsv =jobscsv.append(newrow, ignore_index=True)\n",
    "        jobscsv.to_pickle(\"jobs.pkl\")\n",
    "        jobscsv.to_csv(\"jobs.csv\")\n",
    "        for i in range(60*20):\n",
    "            time.sleep(1)"
   ]
  },
  {
   "cell_type": "code",
   "execution_count": 100,
   "metadata": {
    "collapsed": true
   },
   "outputs": [],
   "source": [
    "import six\n",
    "from ast import literal_eval"
   ]
  },
  {
   "cell_type": "code",
   "execution_count": 135,
   "metadata": {
    "collapsed": false
   },
   "outputs": [
    {
     "name": "stderr",
     "output_type": "stream",
     "text": [
      "C:\\Users\\ara730\\AppData\\Local\\Continuum\\Anaconda3\\lib\\site-packages\\ipykernel\\__main__.py:3: FutureWarning: currently extract(expand=None) means expand=False (return Index/Series/DataFrame) but in a future version of pandas this will be changed to expand=True (return DataFrame)\n",
      "  app.launch_new_instance()\n"
     ]
    },
    {
     "data": {
      "text/plain": [
       "Link                                                       178426\n",
       "Jobtitle                    Neuroinflammation / Neuroimmunologist\n",
       "Organization                                Astex Pharmaceuticals\n",
       "Field             [Biological sciences, Chemistry, Neurosciences]\n",
       "Profile         [First Stage Researcher (R1), Recognised Resea...\n",
       "Location                                           United Kingdom\n",
       "City                                                    Cambridge\n",
       "Requirements    Offer RequirementsSkills/QualificationsPostgra...\n",
       "Description     Astex Pharmaceuticals is a world leader in inn...\n",
       "Misc            Additional commentsContract\\nWeb site for addi...\n",
       "Time                                          2017-02-27 11:34:29\n",
       "Name: 10, dtype: object"
      ]
     },
     "execution_count": 135,
     "metadata": {},
     "output_type": "execute_result"
    }
   ],
   "source": [
    "#Sample parsing\n",
    "joblist = pd.read_pickle(\"jobs.pkl\")\n",
    "joblist[\"Link\"] = joblist[\"Link\"].str.extract(\"([1-9]+)\")\n",
    "joblist[\"Organization\"] = joblist[\"Organization\"].apply(lambda x: literal_eval(str(x))[0].strip())\n",
    "joblist[\"Jobtitle\"] = joblist[\"Jobtitle\"].apply(lambda x: literal_eval(str(x))[0].strip())\n",
    "joblist[\"Field\"] = joblist[\"Field\"].apply(lambda x: literal_eval(str(x))[0])\n",
    "joblist[\"Profile\"] = joblist[\"Profile\"].apply(lambda x: literal_eval(str(x))[0])\n",
    "joblist[\"Location\"] = joblist[\"Location\"].apply(lambda x: literal_eval(str(x))[0][0])\n",
    "joblist[\"City\"] = joblist[\"City\"].apply(lambda x: literal_eval(str(x))[0])\n",
    "joblist[\"Requirements\"] = joblist[\"Requirements\"].apply(lambda x: literal_eval(str(x))[0] if len(literal_eval(str(x)))>0 else x)\n",
    "joblist[\"Description\"] = joblist[\"Description\"].apply(lambda x: literal_eval(str(x))[0] if len(literal_eval(str(x)))>0 else x)\n",
    "joblist[\"Misc\"] = joblist[\"Misc\"].apply(lambda x: literal_eval(str(x))[0] if len(literal_eval(str(x)))>0 else x)\n",
    "joblist.iloc[10]"
   ]
  },
  {
   "cell_type": "code",
   "execution_count": null,
   "metadata": {
    "collapsed": true
   },
   "outputs": [],
   "source": []
  }
 ],
 "metadata": {
  "anaconda-cloud": {},
  "kernelspec": {
   "display_name": "Python [conda root]",
   "language": "python",
   "name": "conda-root-py"
  },
  "language_info": {
   "codemirror_mode": {
    "name": "ipython",
    "version": 3
   },
   "file_extension": ".py",
   "mimetype": "text/x-python",
   "name": "python",
   "nbconvert_exporter": "python",
   "pygments_lexer": "ipython3",
   "version": "3.5.2"
  }
 },
 "nbformat": 4,
 "nbformat_minor": 1
}
