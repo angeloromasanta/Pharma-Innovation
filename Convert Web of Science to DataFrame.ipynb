{
 "cells": [
  {
   "cell_type": "code",
   "execution_count": 1,
   "metadata": {
    "collapsed": false
   },
   "outputs": [],
   "source": [
    "import re, csv, os \n",
    "import pandas as pd\n",
    "import numpy as np\n",
    "\n",
    "\n",
    "columnnames =[\"PT\",\"AU\",\"DE\", \"AF\",\"TI\",\"SO\",\"LA\",\"DT\",\"ID\",\"AB\",\"C1\",\"RP\",\"EM\",\"CR\",\"NR\",\"TC\",\"U1\",\"PU\",\"PI\",\"PA\",\"SN\",\"EI\",\"JI\",\"PD\",\"PY\",\"VL\",\"IS\",\"BP\",\"EP\",\"DI\",\"PG\",\"WC\",\"SC\",\"GA\",\"UT\"]\n",
    "\n",
    "#To convert Web of Science files to list of list of dictionary\n",
    "def convertWOScsv(filename):\n",
    "    #open file\n",
    "    openfile = open(filename)\n",
    "    sampledata = openfile.read()\n",
    "    sampledata = sampledata\n",
    "    # separate each article record - note: each article is separated by two line breaks\n",
    "    individualrecords = sampledata.split('\\n\\n')\n",
    "    databaseofWOS = []\n",
    "    # parse individual record\n",
    "    for recordindividual in individualrecords:\n",
    "        onefile = {}\n",
    "        for x in columnnames:\n",
    "            #perform regex to divide tag and label\n",
    "            everyrow = re.compile(\"\\n\"+x + \" \" + r'((.*?))\\n[A-Z][A-Z1]', re.DOTALL)\n",
    "            rowsdivision = everyrow.search(recordindividual)\n",
    "            #If tag exists add to the file\n",
    "            if rowsdivision:\n",
    "                onefile[x] = rowsdivision.group(1)\n",
    "        databaseofWOS.append(onefile)\n",
    "    return databaseofWOS"
   ]
  },
  {
   "cell_type": "code",
   "execution_count": 2,
   "metadata": {
    "collapsed": true
   },
   "outputs": [],
   "source": [
    "#To convert Web of Science files in bulk to dataframe\n",
    "def massconvertWOS():\n",
    "    publicationslist = []\n",
    "    #Converts all text files in the same directory to one dataframe\n",
    "    for file in os.listdir():\n",
    "        if file.endswith(\".txt\"):\n",
    "            converttotable = convertWOScsv(file)\n",
    "            publicationslist += converttotable\n",
    "    return pd.DataFrame(publicationslist)"
   ]
  },
  {
   "cell_type": "code",
   "execution_count": 3,
   "metadata": {
    "collapsed": false
   },
   "outputs": [],
   "source": [
    "#To convert dataframe back to Web of Science files for processing in other programs\n",
    "def convertWOStext(dataframe, outputtext):\n",
    "    txtresult = \"\"\n",
    "    for y in range(0, len(dataframe)):\n",
    "        for x in columnnames:\n",
    "            if dataframe[x].iloc[y] != np.nan:\n",
    "                txtresult += x + \" \" + str(dataframe[x].iloc[y]) + \"\\n\"\n",
    "        txtresult += \"ER\\n\\n\"\n",
    "    f = open(outputtext, \"w\", encoding='utf-8')\n",
    "    f.write(txtresult)\n",
    "    f.close()"
   ]
  },
  {
   "cell_type": "code",
   "execution_count": 4,
   "metadata": {
    "collapsed": false
   },
   "outputs": [
    {
     "data": {
      "text/html": [
       "<div>\n",
       "<table border=\"1\" class=\"dataframe\">\n",
       "  <thead>\n",
       "    <tr style=\"text-align: right;\">\n",
       "      <th></th>\n",
       "      <th>AB</th>\n",
       "      <th>AF</th>\n",
       "      <th>AU</th>\n",
       "      <th>BP</th>\n",
       "      <th>C1</th>\n",
       "      <th>CR</th>\n",
       "      <th>DE</th>\n",
       "      <th>DI</th>\n",
       "      <th>DT</th>\n",
       "      <th>EI</th>\n",
       "      <th>...</th>\n",
       "      <th>RP</th>\n",
       "      <th>SC</th>\n",
       "      <th>SN</th>\n",
       "      <th>SO</th>\n",
       "      <th>TC</th>\n",
       "      <th>TI</th>\n",
       "      <th>U1</th>\n",
       "      <th>UT</th>\n",
       "      <th>VL</th>\n",
       "      <th>WC</th>\n",
       "    </tr>\n",
       "  </thead>\n",
       "  <tbody>\n",
       "    <tr>\n",
       "      <th>0</th>\n",
       "      <td>NaN</td>\n",
       "      <td>GANNON, MT\\n   WILLETT, P</td>\n",
       "      <td>GANNON, MT\\n   WILLETT, P</td>\n",
       "      <td>251</td>\n",
       "      <td>UNIV SHEFFIELD,POSTGRAD SCH LIBRARIANSHIP &amp; IN...</td>\n",
       "      <td>BRACK EV, 1978, PROGRAM, V12, P61\\n   CROWE JE...</td>\n",
       "      <td>NaN</td>\n",
       "      <td>10.1021/ci60020a016</td>\n",
       "      <td>Article</td>\n",
       "      <td>NaN</td>\n",
       "      <td>...</td>\n",
       "      <td>NaN</td>\n",
       "      <td>Chemistry; Computer Science</td>\n",
       "      <td>0095-2338\\nJ9 J CHEM INF COMP SCI</td>\n",
       "      <td>JOURNAL OF CHEMICAL INFORMATION AND COMPUTER S...</td>\n",
       "      <td>6\\nZ9 6</td>\n",
       "      <td>SAMPLING CONSIDERATIONS IN THE SELECTION OF FR...</td>\n",
       "      <td>0\\nU2 0</td>\n",
       "      <td>WOS:A1979HU81600016</td>\n",
       "      <td>19</td>\n",
       "      <td>Chemistry, Multidisciplinary; Computer Science...</td>\n",
       "    </tr>\n",
       "  </tbody>\n",
       "</table>\n",
       "<p>1 rows × 35 columns</p>\n",
       "</div>"
      ],
      "text/plain": [
       "    AB                         AF                         AU   BP  \\\n",
       "0  NaN  GANNON, MT\\n   WILLETT, P  GANNON, MT\\n   WILLETT, P  251   \n",
       "\n",
       "                                                  C1  \\\n",
       "0  UNIV SHEFFIELD,POSTGRAD SCH LIBRARIANSHIP & IN...   \n",
       "\n",
       "                                                  CR   DE  \\\n",
       "0  BRACK EV, 1978, PROGRAM, V12, P61\\n   CROWE JE...  NaN   \n",
       "\n",
       "                    DI       DT   EI  \\\n",
       "0  10.1021/ci60020a016  Article  NaN   \n",
       "\n",
       "                         ...                           RP  \\\n",
       "0                        ...                          NaN   \n",
       "\n",
       "                            SC                                 SN  \\\n",
       "0  Chemistry; Computer Science  0095-2338\\nJ9 J CHEM INF COMP SCI   \n",
       "\n",
       "                                                  SO       TC  \\\n",
       "0  JOURNAL OF CHEMICAL INFORMATION AND COMPUTER S...  6\\nZ9 6   \n",
       "\n",
       "                                                  TI       U1  \\\n",
       "0  SAMPLING CONSIDERATIONS IN THE SELECTION OF FR...  0\\nU2 0   \n",
       "\n",
       "                    UT  VL                                                 WC  \n",
       "0  WOS:A1979HU81600016  19  Chemistry, Multidisciplinary; Computer Science...  \n",
       "\n",
       "[1 rows x 35 columns]"
      ]
     },
     "execution_count": 4,
     "metadata": {},
     "output_type": "execute_result"
    }
   ],
   "source": [
    "#Convert files to dataframe\n",
    "df = massconvertWOS()\n",
    "df.dropna(how=\"all\", inplace=True)\n",
    "df.head(1)"
   ]
  }
 ],
 "metadata": {
  "anaconda-cloud": {},
  "kernelspec": {
   "display_name": "Python 3",
   "language": "python",
   "name": "python3"
  },
  "language_info": {
   "codemirror_mode": {
    "name": "ipython",
    "version": 3
   },
   "file_extension": ".py",
   "mimetype": "text/x-python",
   "name": "python",
   "nbconvert_exporter": "python",
   "pygments_lexer": "ipython3",
   "version": "3.6.0"
  }
 },
 "nbformat": 4,
 "nbformat_minor": 1
}
